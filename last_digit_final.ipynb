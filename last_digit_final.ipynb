{
 "cells": [
  {
   "cell_type": "code",
   "execution_count": 1,
   "metadata": {},
   "outputs": [
    {
     "name": "stdout",
     "output_type": "stream",
     "text": [
      "306\n",
      "Enter 4 numbers:4343\n",
      "4343306\n",
      "6\n"
     ]
    }
   ],
   "source": [
    "import numpy as np\n",
    "from math import floor\n",
    "c=floor(np.random.rand()*1000)\n",
    "print(c)\n",
    "num=str(input(\"Enter 4 numbers:\"))+str(c)\n",
    "print(num)\n",
    "lst=[]\n",
    "for i in num:\n",
    "    lst.append(i)\n",
    "lst = list(map(int, lst))\n",
    "lst1=np.array(lst)*np.array([8,7,6,5,4,3,2])\n",
    "last_digit=sum(lst1)%11\n",
    "print(last_digit)\n"
   ]
  },
  {
   "cell_type": "code",
   "execution_count": null,
   "metadata": {},
   "outputs": [],
   "source": []
  },
  {
   "cell_type": "code",
   "execution_count": null,
   "metadata": {},
   "outputs": [],
   "source": []
  },
  {
   "cell_type": "code",
   "execution_count": null,
   "metadata": {},
   "outputs": [],
   "source": []
  }
 ],
 "metadata": {
  "kernelspec": {
   "display_name": "Python 3",
   "language": "python",
   "name": "python3"
  },
  "language_info": {
   "codemirror_mode": {
    "name": "ipython",
    "version": 3
   },
   "file_extension": ".py",
   "mimetype": "text/x-python",
   "name": "python",
   "nbconvert_exporter": "python",
   "pygments_lexer": "ipython3",
   "version": "3.6.7"
  }
 },
 "nbformat": 4,
 "nbformat_minor": 2
}
