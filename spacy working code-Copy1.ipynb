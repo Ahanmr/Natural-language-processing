{
 "cells": [
  {
   "cell_type": "code",
   "execution_count": 1,
   "metadata": {},
   "outputs": [
    {
     "name": "stdout",
     "output_type": "stream",
     "text": [
      "['hello', '!', 'this', 'is', 'amazing', '#', 'sih2019', '[', 'rcoer', ']']\n",
      "['hello', 'this', 'is', 'amazing', 'sih2019', 'rcoer']\n"
     ]
    }
   ],
   "source": [
    "import re\n",
    "import pandas as pd\n",
    "from nltk import word_tokenize\n",
    "# df=pd.read_csv(\"test_sih.csv - Sheet1.csv\")\n",
    "# df.head(6)\n",
    "test=str(\"hello! this is amazing #sih2019 [rcoer]\")\n",
    "print(word_tokenize(test))\n",
    "test=re.sub('\\W+',' ', test )\n",
    "# import nltk\n",
    "\n",
    "print(word_tokenize(test))"
   ]
  },
  {
   "cell_type": "code",
   "execution_count": 2,
   "metadata": {},
   "outputs": [
    {
     "data": {
      "text/html": [
       "<div>\n",
       "<style scoped>\n",
       "    .dataframe tbody tr th:only-of-type {\n",
       "        vertical-align: middle;\n",
       "    }\n",
       "\n",
       "    .dataframe tbody tr th {\n",
       "        vertical-align: top;\n",
       "    }\n",
       "\n",
       "    .dataframe thead th {\n",
       "        text-align: right;\n",
       "    }\n",
       "</style>\n",
       "<table border=\"1\" class=\"dataframe\">\n",
       "  <thead>\n",
       "    <tr style=\"text-align: right;\">\n",
       "      <th></th>\n",
       "      <th>SLNO</th>\n",
       "      <th>PL No.</th>\n",
       "      <th>DESCRIPTION</th>\n",
       "    </tr>\n",
       "  </thead>\n",
       "  <tbody>\n",
       "    <tr>\n",
       "      <th>0</th>\n",
       "      <td>1</td>\n",
       "      <td>11020179</td>\n",
       "      <td>Suspension motor nose holder with sandwitch mo...</td>\n",
       "    </tr>\n",
       "    <tr>\n",
       "      <th>1</th>\n",
       "      <td>2</td>\n",
       "      <td>11020416</td>\n",
       "      <td>SAFETY BRACKET EQUALIGING BEAM</td>\n",
       "    </tr>\n",
       "    <tr>\n",
       "      <th>2</th>\n",
       "      <td>3</td>\n",
       "      <td>11020453</td>\n",
       "      <td>SLACK ADJUSTER UPPER</td>\n",
       "    </tr>\n",
       "    <tr>\n",
       "      <th>3</th>\n",
       "      <td>4</td>\n",
       "      <td>11020519</td>\n",
       "      <td>EQUALISER LINKAGE WITH BUSHING</td>\n",
       "    </tr>\n",
       "    <tr>\n",
       "      <th>4</th>\n",
       "      <td>5</td>\n",
       "      <td>11020544</td>\n",
       "      <td>ADJUSTER SLACK LONG ASSLY (WEDER HORN TRUCK BO...</td>\n",
       "    </tr>\n",
       "  </tbody>\n",
       "</table>\n",
       "</div>"
      ],
      "text/plain": [
       "   SLNO    PL No.                                        DESCRIPTION\n",
       "0     1  11020179  Suspension motor nose holder with sandwitch mo...\n",
       "1     2  11020416                     SAFETY BRACKET EQUALIGING BEAM\n",
       "2     3  11020453                               SLACK ADJUSTER UPPER\n",
       "3     4  11020519                     EQUALISER LINKAGE WITH BUSHING\n",
       "4     5  11020544  ADJUSTER SLACK LONG ASSLY (WEDER HORN TRUCK BO..."
      ]
     },
     "execution_count": 2,
     "metadata": {},
     "output_type": "execute_result"
    }
   ],
   "source": [
    "df=pd.read_csv(\"test_sih.csv - Sheet1.csv\")\n",
    "df.head()"
   ]
  },
  {
   "cell_type": "code",
   "execution_count": 3,
   "metadata": {},
   "outputs": [
    {
     "name": "stderr",
     "output_type": "stream",
     "text": [
      "/home/ahanmr/flipkart/myvenv/lib/python3.6/site-packages/ipykernel_launcher.py:3: SettingWithCopyWarning: \n",
      "A value is trying to be set on a copy of a slice from a DataFrame\n",
      "\n",
      "See the caveats in the documentation: http://pandas.pydata.org/pandas-docs/stable/indexing.html#indexing-view-versus-copy\n",
      "  This is separate from the ipykernel package so we can avoid doing imports until\n",
      "/home/ahanmr/flipkart/myvenv/lib/python3.6/site-packages/ipykernel_launcher.py:4: SettingWithCopyWarning: \n",
      "A value is trying to be set on a copy of a slice from a DataFrame\n",
      "\n",
      "See the caveats in the documentation: http://pandas.pydata.org/pandas-docs/stable/indexing.html#indexing-view-versus-copy\n",
      "  after removing the cwd from sys.path.\n",
      "/home/ahanmr/flipkart/myvenv/lib/python3.6/site-packages/ipykernel_launcher.py:5: SettingWithCopyWarning: \n",
      "A value is trying to be set on a copy of a slice from a DataFrame\n",
      "\n",
      "See the caveats in the documentation: http://pandas.pydata.org/pandas-docs/stable/indexing.html#indexing-view-versus-copy\n",
      "  \"\"\"\n"
     ]
    },
    {
     "data": {
      "text/html": [
       "<div>\n",
       "<style scoped>\n",
       "    .dataframe tbody tr th:only-of-type {\n",
       "        vertical-align: middle;\n",
       "    }\n",
       "\n",
       "    .dataframe tbody tr th {\n",
       "        vertical-align: top;\n",
       "    }\n",
       "\n",
       "    .dataframe thead th {\n",
       "        text-align: right;\n",
       "    }\n",
       "</style>\n",
       "<table border=\"1\" class=\"dataframe\">\n",
       "  <thead>\n",
       "    <tr style=\"text-align: right;\">\n",
       "      <th></th>\n",
       "      <th>SLNO</th>\n",
       "      <th>PL No.</th>\n",
       "      <th>DESCRIPTION</th>\n",
       "      <th>TAGS</th>\n",
       "    </tr>\n",
       "  </thead>\n",
       "  <tbody>\n",
       "    <tr>\n",
       "      <th>0</th>\n",
       "      <td>1</td>\n",
       "      <td>11020179</td>\n",
       "      <td>Suspension motor nose holder with sandwitch mo...</td>\n",
       "      <td>[suspension, motor, nose, holder, with, sandwi...</td>\n",
       "    </tr>\n",
       "    <tr>\n",
       "      <th>1</th>\n",
       "      <td>2</td>\n",
       "      <td>11020416</td>\n",
       "      <td>SAFETY BRACKET EQUALIGING BEAM</td>\n",
       "      <td>[safety, bracket, equaliging, beam]</td>\n",
       "    </tr>\n",
       "    <tr>\n",
       "      <th>2</th>\n",
       "      <td>3</td>\n",
       "      <td>11020453</td>\n",
       "      <td>SLACK ADJUSTER UPPER</td>\n",
       "      <td>[slack, adjuster, upper]</td>\n",
       "    </tr>\n",
       "    <tr>\n",
       "      <th>3</th>\n",
       "      <td>4</td>\n",
       "      <td>11020519</td>\n",
       "      <td>EQUALISER LINKAGE WITH BUSHING</td>\n",
       "      <td>[equaliser, linkage, with, bushing]</td>\n",
       "    </tr>\n",
       "    <tr>\n",
       "      <th>4</th>\n",
       "      <td>5</td>\n",
       "      <td>11020544</td>\n",
       "      <td>ADJUSTER SLACK LONG ASSLY (WEDER HORN TRUCK BO...</td>\n",
       "      <td>[adjuster, slack, long, assly, weder, horn, tr...</td>\n",
       "    </tr>\n",
       "    <tr>\n",
       "      <th>5</th>\n",
       "      <td>6</td>\n",
       "      <td>11020568</td>\n",
       "      <td>HANGER LEVER</td>\n",
       "      <td>[hanger, lever]</td>\n",
       "    </tr>\n",
       "  </tbody>\n",
       "</table>\n",
       "</div>"
      ],
      "text/plain": [
       "   SLNO    PL No.                                        DESCRIPTION  \\\n",
       "0     1  11020179  Suspension motor nose holder with sandwitch mo...   \n",
       "1     2  11020416                     SAFETY BRACKET EQUALIGING BEAM   \n",
       "2     3  11020453                               SLACK ADJUSTER UPPER   \n",
       "3     4  11020519                     EQUALISER LINKAGE WITH BUSHING   \n",
       "4     5  11020544  ADJUSTER SLACK LONG ASSLY (WEDER HORN TRUCK BO...   \n",
       "5     6  11020568                                       HANGER LEVER   \n",
       "\n",
       "                                                TAGS  \n",
       "0  [suspension, motor, nose, holder, with, sandwi...  \n",
       "1                [safety, bracket, equaliging, beam]  \n",
       "2                           [slack, adjuster, upper]  \n",
       "3                [equaliser, linkage, with, bushing]  \n",
       "4  [adjuster, slack, long, assly, weder, horn, tr...  \n",
       "5                                    [hanger, lever]  "
      ]
     },
     "execution_count": 3,
     "metadata": {},
     "output_type": "execute_result"
    }
   ],
   "source": [
    "df[\"TAGS\"]=df[\"DESCRIPTION\"]\n",
    "for i in range(len(df[\"DESCRIPTION\"])):\n",
    "    df[\"TAGS\"][i]=df[\"TAGS\"][i].lower()\n",
    "    df[\"TAGS\"][i]=re.sub('\\W+',' ', df[\"TAGS\"][i])\n",
    "    df[\"TAGS\"][i]=word_tokenize(df[\"TAGS\"][i])\n",
    "\n",
    "df.head(6)"
   ]
  },
  {
   "cell_type": "code",
   "execution_count": 4,
   "metadata": {},
   "outputs": [
    {
     "data": {
      "text/plain": [
       "['pin', 'keeper', 'for', 'equaliser']"
      ]
     },
     "execution_count": 4,
     "metadata": {},
     "output_type": "execute_result"
    }
   ],
   "source": [
    "df['TAGS'][39]"
   ]
  },
  {
   "cell_type": "code",
   "execution_count": 6,
   "metadata": {},
   "outputs": [
    {
     "name": "stdout",
     "output_type": "stream",
     "text": [
      "['rubber', 'part', 'kit', 'for', '28vb', 'control', 'valve'] ['rubber', 'part', 'kit', 'for', '28vb', 'control', 'valve'] 1.0\n",
      "['rubber', 'part', 'kit', 'for', '28vb', 'control', 'valve'] ['rubber', 'part', 'kit', 'for', '28vb', 'control', 'valve'] 1.0\n",
      "['rubber', 'part', 'kit', 'for', '28vb', 'control', 'valve'] ['rubber', 'part', 'kit', 'for', 'c2', 'relay', 'air', 'valve'] 0.9938509599966221\n",
      "['rubber', 'part', 'kit', 'for', '28vb', 'control', 'valve'] ['suspension', 'coil', 'spring', 'outer', 'for', 'motor', 'truck'] 0.9901368182358794\n"
     ]
    }
   ],
   "source": [
    "import spacy\n",
    "\n",
    "# Load English tokenizer, tagger, parser, NER and word vectors\n",
    "nlp = spacy.load('en_core_web_sm')\n",
    "new=word_tokenize(\"rubber part kit for 28vb control valve\")\n",
    "doc1 = nlp(str(new))\n",
    "for i in range(len(df[\"TAGS\"])):\n",
    "    doc2 = nlp(str(df['TAGS'][i]))\n",
    "    similarity = doc1.similarity(doc2)\n",
    "    if(similarity>=0.99):\n",
    "        print(doc1.text, doc2.text, similarity)"
   ]
  },
  {
   "cell_type": "code",
   "execution_count": 20,
   "metadata": {},
   "outputs": [
    {
     "data": {
      "text/plain": [
       "\"['suspension', 'motor', 'nose', 'holder', 'with', 'sandwitch', 'mounting']\""
      ]
     },
     "execution_count": 20,
     "metadata": {},
     "output_type": "execute_result"
    }
   ],
   "source": [
    "str(df[\"TAGS\"][0])"
   ]
  },
  {
   "cell_type": "code",
   "execution_count": 21,
   "metadata": {},
   "outputs": [
    {
     "data": {
      "text/plain": [
       "142"
      ]
     },
     "execution_count": 21,
     "metadata": {},
     "output_type": "execute_result"
    }
   ],
   "source": [
    "len(df[\"TAGS\"])"
   ]
  },
  {
   "cell_type": "code",
   "execution_count": 28,
   "metadata": {},
   "outputs": [
    {
     "data": {
      "text/plain": [
       "['rubber', 'part', 'kit', 'for', '28vb', 'control', 'valve']"
      ]
     },
     "execution_count": 28,
     "metadata": {},
     "output_type": "execute_result"
    }
   ],
   "source": [
    "nlp(str(word_tokenize(\"rubber part kit for 28vb control valve\")))"
   ]
  },
  {
   "cell_type": "code",
   "execution_count": null,
   "metadata": {},
   "outputs": [],
   "source": []
  }
 ],
 "metadata": {
  "kernelspec": {
   "display_name": "Python 3",
   "language": "python",
   "name": "python3"
  },
  "language_info": {
   "codemirror_mode": {
    "name": "ipython",
    "version": 3
   },
   "file_extension": ".py",
   "mimetype": "text/x-python",
   "name": "python",
   "nbconvert_exporter": "python",
   "pygments_lexer": "ipython3",
   "version": "3.6.7"
  }
 },
 "nbformat": 4,
 "nbformat_minor": 2
}
