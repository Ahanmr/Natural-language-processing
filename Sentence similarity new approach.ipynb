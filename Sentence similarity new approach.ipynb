{
 "cells": [
  {
   "cell_type": "code",
   "execution_count": 1,
   "metadata": {},
   "outputs": [],
   "source": [
    "from sklearn.feature_extraction.text import CountVectorizer\n",
    "from sklearn.metrics.pairwise import euclidean_distances"
   ]
  },
  {
   "cell_type": "code",
   "execution_count": 2,
   "metadata": {},
   "outputs": [],
   "source": [
    "corpus = [\"ordinary, soap, weird\",\n",
    "        \"ordinary, loop, soap\",\n",
    "        \"food, pantry, car\",\n",
    "        \"ticket,pantry,passenger\",\n",
    "         \"ordinary,soap,weird\",\n",
    "         \"ordinary,towel,normal\",\n",
    "         \"food,pantry,car\",\n",
    "         \"ordinary, loop1, soap, random\"]"
   ]
  },
  {
   "cell_type": "code",
   "execution_count": 3,
   "metadata": {},
   "outputs": [
    {
     "name": "stdout",
     "output_type": "stream",
     "text": [
      "Enter a new price list(PL) entry: ordinary,soap,weird\n"
     ]
    }
   ],
   "source": [
    "db_add=input(\"Enter a new price list(PL) entry: \")\n",
    "corpus.append(str(db_add))"
   ]
  },
  {
   "cell_type": "code",
   "execution_count": 4,
   "metadata": {},
   "outputs": [
    {
     "data": {
      "text/plain": [
       "['ordinary, soap, weird',\n",
       " 'ordinary, loop, soap',\n",
       " 'food, pantry, car',\n",
       " 'ticket,pantry,passenger',\n",
       " 'ordinary,soap,weird',\n",
       " 'ordinary,towel,normal',\n",
       " 'food,pantry,car',\n",
       " 'ordinary, loop1, soap, random',\n",
       " 'ordinary,soap,weird']"
      ]
     },
     "execution_count": 4,
     "metadata": {},
     "output_type": "execute_result"
    }
   ],
   "source": [
    "corpus"
   ]
  },
  {
   "cell_type": "code",
   "execution_count": 5,
   "metadata": {},
   "outputs": [
    {
     "name": "stdout",
     "output_type": "stream",
     "text": [
      "[[0 0 0 0 0 1 0 0 0 1 0 0 1]\n",
      " [0 0 1 0 0 1 0 0 0 1 0 0 0]\n",
      " [1 1 0 0 0 0 1 0 0 0 0 0 0]\n",
      " [0 0 0 0 0 0 1 1 0 0 1 0 0]\n",
      " [0 0 0 0 0 1 0 0 0 1 0 0 1]\n",
      " [0 0 0 0 1 1 0 0 0 0 0 1 0]\n",
      " [1 1 0 0 0 0 1 0 0 0 0 0 0]\n",
      " [0 0 0 1 0 1 0 0 1 1 0 0 0]\n",
      " [0 0 0 0 0 1 0 0 0 1 0 0 1]]\n"
     ]
    }
   ],
   "source": [
    "vectorizer=CountVectorizer()\n",
    "features=vectorizer.fit_transform(corpus).todense()\n",
    "print(features)"
   ]
  },
  {
   "cell_type": "code",
   "execution_count": 6,
   "metadata": {},
   "outputs": [],
   "source": [
    "# tags = text.split(',')\n",
    "# number = len(tags)"
   ]
  },
  {
   "cell_type": "code",
   "execution_count": 7,
   "metadata": {},
   "outputs": [
    {
     "data": {
      "text/plain": [
       "{'ordinary': 5,\n",
       " 'soap': 9,\n",
       " 'weird': 12,\n",
       " 'loop': 2,\n",
       " 'food': 1,\n",
       " 'pantry': 6,\n",
       " 'car': 0,\n",
       " 'ticket': 10,\n",
       " 'passenger': 7,\n",
       " 'towel': 11,\n",
       " 'normal': 4,\n",
       " 'loop1': 3,\n",
       " 'random': 8}"
      ]
     },
     "execution_count": 7,
     "metadata": {},
     "output_type": "execute_result"
    }
   ],
   "source": [
    "vectorizer.vocabulary_"
   ]
  },
  {
   "cell_type": "code",
   "execution_count": 8,
   "metadata": {},
   "outputs": [
    {
     "name": "stdout",
     "output_type": "stream",
     "text": [
      "[[0.]]\n",
      "[[1.41421356]]\n",
      "[[2.44948974]]\n",
      "[[2.44948974]]\n",
      "[[0.]]\n",
      "[[2.]]\n",
      "[[2.44948974]]\n",
      "[[1.73205081]]\n",
      "[[0.]]\n"
     ]
    }
   ],
   "source": [
    "for f in features:\n",
    "    print(euclidean_distances(features[0],f))"
   ]
  },
  {
   "cell_type": "code",
   "execution_count": 9,
   "metadata": {},
   "outputs": [],
   "source": [
    "# for f in features:\n",
    "#     sum1=0\n",
    "#     f.tolist()\n",
    "#     print(f[0][0])\n",
    "#     for s in f:\n",
    "#         sum1=sum1+s\n",
    "#     #print(sum1)\n",
    "    #print(abs(f-features[0]))\n"
   ]
  },
  {
   "cell_type": "code",
   "execution_count": 10,
   "metadata": {},
   "outputs": [
    {
     "data": {
      "text/plain": [
       "numpy.matrix"
      ]
     },
     "execution_count": 10,
     "metadata": {},
     "output_type": "execute_result"
    }
   ],
   "source": [
    "type(features)"
   ]
  },
  {
   "cell_type": "code",
   "execution_count": 11,
   "metadata": {},
   "outputs": [
    {
     "data": {
      "text/plain": [
       "[[0, 0, 0, 0, 0, 1, 0, 0, 0, 1, 0, 0, 1],\n",
       " [0, 0, 1, 0, 0, 1, 0, 0, 0, 1, 0, 0, 0],\n",
       " [1, 1, 0, 0, 0, 0, 1, 0, 0, 0, 0, 0, 0],\n",
       " [0, 0, 0, 0, 0, 0, 1, 1, 0, 0, 1, 0, 0],\n",
       " [0, 0, 0, 0, 0, 1, 0, 0, 0, 1, 0, 0, 1],\n",
       " [0, 0, 0, 0, 1, 1, 0, 0, 0, 0, 0, 1, 0],\n",
       " [1, 1, 0, 0, 0, 0, 1, 0, 0, 0, 0, 0, 0],\n",
       " [0, 0, 0, 1, 0, 1, 0, 0, 1, 1, 0, 0, 0],\n",
       " [0, 0, 0, 0, 0, 1, 0, 0, 0, 1, 0, 0, 1]]"
      ]
     },
     "execution_count": 11,
     "metadata": {},
     "output_type": "execute_result"
    }
   ],
   "source": [
    "featurelist=features.tolist()\n",
    "featurelist"
   ]
  },
  {
   "cell_type": "code",
   "execution_count": 12,
   "metadata": {},
   "outputs": [
    {
     "data": {
      "text/plain": [
       "2"
      ]
     },
     "execution_count": 12,
     "metadata": {},
     "output_type": "execute_result"
    }
   ],
   "source": [
    "import numpy as np\n",
    "featurelist[0]=np.array(featurelist[0])\n",
    "featurelist[1]=np.array(featurelist[1])\n",
    "sum(abs(featurelist[0]-featurelist[1]))"
   ]
  },
  {
   "cell_type": "code",
   "execution_count": 18,
   "metadata": {},
   "outputs": [],
   "source": [
    "for i in range(len(featurelist)):\n",
    "    featurelist[i]=np.array(featurelist[i])\n",
    "\n",
    "    "
   ]
  },
  {
   "cell_type": "code",
   "execution_count": 25,
   "metadata": {},
   "outputs": [
    {
     "data": {
      "text/plain": [
       "array([2, 2, 1, 1, 1, 6, 3, 1, 1, 5, 1, 1, 3])"
      ]
     },
     "execution_count": 25,
     "metadata": {},
     "output_type": "execute_result"
    }
   ],
   "source": [
    "sum(featurelist)"
   ]
  },
  {
   "cell_type": "code",
   "execution_count": null,
   "metadata": {},
   "outputs": [],
   "source": []
  },
  {
   "cell_type": "code",
   "execution_count": null,
   "metadata": {},
   "outputs": [],
   "source": []
  },
  {
   "cell_type": "code",
   "execution_count": 16,
   "metadata": {},
   "outputs": [],
   "source": [
    "# #for feature in features:\n",
    "# sumq=0\n",
    "# for f in featurelist:\n",
    "#     sumq+=f\n",
    "#     print(abs(feature-features[0].tolist()))\n",
    "#     print(sumq)\n",
    "    "
   ]
  },
  {
   "cell_type": "code",
   "execution_count": 17,
   "metadata": {},
   "outputs": [
    {
     "data": {
      "text/plain": [
       "9"
      ]
     },
     "execution_count": 17,
     "metadata": {},
     "output_type": "execute_result"
    }
   ],
   "source": []
  },
  {
   "cell_type": "code",
   "execution_count": null,
   "metadata": {},
   "outputs": [],
   "source": []
  },
  {
   "cell_type": "code",
   "execution_count": null,
   "metadata": {},
   "outputs": [],
   "source": []
  },
  {
   "cell_type": "code",
   "execution_count": null,
   "metadata": {},
   "outputs": [],
   "source": []
  },
  {
   "cell_type": "code",
   "execution_count": null,
   "metadata": {},
   "outputs": [],
   "source": []
  },
  {
   "cell_type": "code",
   "execution_count": null,
   "metadata": {},
   "outputs": [],
   "source": []
  },
  {
   "cell_type": "code",
   "execution_count": null,
   "metadata": {},
   "outputs": [],
   "source": []
  },
  {
   "cell_type": "code",
   "execution_count": null,
   "metadata": {},
   "outputs": [],
   "source": []
  },
  {
   "cell_type": "code",
   "execution_count": null,
   "metadata": {},
   "outputs": [],
   "source": []
  }
 ],
 "metadata": {
  "kernelspec": {
   "display_name": "Python 3",
   "language": "python",
   "name": "python3"
  },
  "language_info": {
   "codemirror_mode": {
    "name": "ipython",
    "version": 3
   },
   "file_extension": ".py",
   "mimetype": "text/x-python",
   "name": "python",
   "nbconvert_exporter": "python",
   "pygments_lexer": "ipython3",
   "version": "3.6.7"
  }
 },
 "nbformat": 4,
 "nbformat_minor": 2
}
